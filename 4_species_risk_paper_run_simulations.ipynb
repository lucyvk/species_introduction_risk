{
 "cells": [
  {
   "cell_type": "code",
   "execution_count": 2,
   "metadata": {},
   "outputs": [],
   "source": [
    "import ATN\n",
    "import multiprocessing\n",
    "from multiprocessing import Pool\n",
    "import csv\n",
    "import time\n",
    "from os.path import exists\n",
    "out_location = \"paper_webs\""
   ]
  },
  {
   "cell_type": "code",
   "execution_count": null,
   "metadata": {},
   "outputs": [],
   "source": [
    "# Run counterfactual dynamics\n",
    "webs1 = []\n",
    "fif_webs_file = open(f\"{out_location}/over15_webs.txt\",'r')\n",
    "for row in fif_webs_file:\n",
    "    webs1.append([f\"./{out_location}/web_{int(row)}_2000\",2000,False])\n",
    "fif_webs_file.close()\n",
    "p = Pool(multiprocessing.cpu_count())\n",
    "p.map(ATN.run_dynamics, webs1)\n",
    "p.close()\n",
    "p.join() #wait    "
   ]
  },
  {
   "cell_type": "code",
   "execution_count": 3,
   "metadata": {},
   "outputs": [],
   "source": [
    "# Run dynamics for first introduced species\n",
    "webs1 = []\n",
    "fif_webs_file = open(f\"./{out_location}/over15_webs.txt\",'r')\n",
    "for row in fif_webs_file:\n",
    "    in_file = open(f\"./{out_location}/introduced_1.csv\",'r')\n",
    "    in_reader = csv.reader(in_file)\n",
    "    next(in_reader)\n",
    "    for line in in_reader:\n",
    "        in_id = int(line[0])\n",
    "        webs1.append([f\"./{out_location}/web_{int(row)}_inv/one/web_{int(row)}_inv_{in_id}\",2000,False])\n",
    "    in_file.close()\n",
    "fif_webs_file.close()"
   ]
  },
  {
   "cell_type": "code",
   "execution_count": 4,
   "metadata": {},
   "outputs": [
    {
     "name": "stdout",
     "output_type": "stream",
     "text": [
      "1665\n"
     ]
    }
   ],
   "source": [
    "print(len(webs1))"
   ]
  },
  {
   "cell_type": "code",
   "execution_count": null,
   "metadata": {},
   "outputs": [],
   "source": [
    "# Run dynamics with multiprocessing package (parallelized) for efficiency\n",
    "# Dynamic simulations take around 1-10 minutes each so how long this takes depends on how many cores you have available \n",
    "p = Pool(multiprocessing.cpu_count())\n",
    "p.map(ATN.run_dynamics, webs1)\n",
    "p.close()\n",
    "p.join() "
   ]
  },
  {
   "cell_type": "code",
   "execution_count": 5,
   "metadata": {},
   "outputs": [],
   "source": [
    "# Double check I got through all of the simulations for the first introduced species! (will print any missing ones)\n",
    "webs1 = []\n",
    "fif_webs_file = open(f\"./{out_location}/over15_webs.txt\",'r')\n",
    "for row in fif_webs_file:\n",
    "    in_file = open(f\"./{out_location}/introduced_1.csv\",'r')\n",
    "    in_reader = csv.reader(in_file)\n",
    "    next(in_reader)\n",
    "    for line in in_reader:\n",
    "        in_id = int(line[0])\n",
    "        if not exists(f\"./{out_location}/web_{int(row)}_inv/one/web_{int(row)}_inv_{in_id}_2000_edges.txt\"):\n",
    "            print(f\"no: ./{out_location}/web_{int(row)}_inv/one/web_{int(row)}_inv_{in_id}_2000_edges.txt\" )\n",
    "        if not exists(f\"./{out_location}/web_{int(row)}_inv/one/web_{int(row)}_inv_{in_id}_2000_nodes.txt\"):\n",
    "            print(f\"no: ./{out_location}/web_{int(row)}_inv/one/web_{int(row)}_inv_{in_id}_2000_nodes.txt\")\n",
    "        if not exists(f\"./{out_location}/web_{int(row)}_inv/one/web_{int(row)}_inv_{in_id}_2000_details.csv\"):\n",
    "            print(f\"no: ./{out_location}/web_{int(row)}_inv/one/web_{int(row)}_inv_{in_id}_2000_details.csv\")\n",
    "    in_file.close()\n",
    "fif_webs_file.close()"
   ]
  },
  {
   "cell_type": "code",
   "execution_count": 6,
   "metadata": {},
   "outputs": [],
   "source": [
    "webs1 = []\n",
    "fif_webs_file = open(f\"./{out_location}/over15_webs.txt\",'r')\n",
    "ct = 0 \n",
    "for row in fif_webs_file:\n",
    "    in_file = open(f\"./{out_location}/introduced_2.csv\",'r')\n",
    "    in_reader = csv.reader(in_file)\n",
    "    next(in_reader)\n",
    "    for line in in_reader:\n",
    "        in_id = int(line[0])\n",
    "        webs1.append([f\"./{out_location}/web_{int(row)}_inv/two/web_{int(row)}_inv_{in_id}\",2000,False])\n",
    "    in_file.close()\n",
    "fif_webs_file.close()"
   ]
  },
  {
   "cell_type": "code",
   "execution_count": 7,
   "metadata": {},
   "outputs": [
    {
     "name": "stdout",
     "output_type": "stream",
     "text": [
      "1665\n"
     ]
    }
   ],
   "source": [
    "print(len(webs1))"
   ]
  },
  {
   "cell_type": "code",
   "execution_count": null,
   "metadata": {},
   "outputs": [],
   "source": [
    "p = Pool(multiprocessing.cpu_count())\n",
    "p.map(ATN.run_dynamics, webs1)\n",
    "p.close()\n",
    "p.join()"
   ]
  },
  {
   "cell_type": "code",
   "execution_count": 9,
   "metadata": {},
   "outputs": [],
   "source": [
    "# Double check I got through all of the simulations for the second introduced species! (will print any missing ones)\n",
    "webs1 = []\n",
    "fif_webs_file = open(f\"./{out_location}/over15_webs.txt\",'r')\n",
    "for row in fif_webs_file:\n",
    "    in_file = open(f\"./{out_location}/introduced_2.csv\",'r')\n",
    "    in_reader = csv.reader(in_file)\n",
    "    next(in_reader)\n",
    "    for line in in_reader:\n",
    "        in_id = int(line[0])\n",
    "        if not exists(f\"./{out_location}/web_{int(row)}_inv/two/web_{int(row)}_inv_{in_id}_2000_edges.txt\"):\n",
    "            print(f\"no: ./{out_location}/web_{int(row)}_inv/two/web_{int(row)}_inv_{in_id}_2000_edges.txt\")\n",
    "        if not exists(f\"./{out_location}/web_{int(row)}_inv/two/web_{int(row)}_inv_{in_id}_2000_nodes.txt\"):\n",
    "            print(f\"no: ./{out_location}/web_{int(row)}_inv/two/web_{int(row)}_inv_{in_id}_2000_nodes.txt\")\n",
    "        if not exists(f\"./{out_location}/web_{int(row)}_inv/two/web_{int(row)}_inv_{in_id}_2000_details.csv\"):\n",
    "            print(f\"no: ./{out_location}/web_{int(row)}_inv/two/web_{int(row)}_inv_{in_id}_2000_details.csv\")\n",
    "    in_file.close()\n",
    "fif_webs_file.close()"
   ]
  },
  {
   "cell_type": "code",
   "execution_count": 10,
   "metadata": {},
   "outputs": [],
   "source": [
    "# Run dynamics for both introduced species\n",
    "webs1 = []\n",
    "fif_webs_file = open(f\"./{out_location}/over15_webs.txt\",'r')\n",
    "for row in fif_webs_file:\n",
    "    in_file = open(f\"./{out_location}/introduced_both.csv\",'r')\n",
    "    in_reader = csv.reader(in_file)\n",
    "    next(in_reader)\n",
    "    for line in in_reader:\n",
    "        in_id1 = int(line[0])\n",
    "        in_id2 = int(line[1])\n",
    "        webs1.append([f\"./{out_location}/web_{int(row)}_inv/both/web_{int(row)}_inv_{in_id1}_{in_id2}\",2000,False])\n",
    "    in_file.close()\n",
    "fif_webs_file.close()"
   ]
  },
  {
   "cell_type": "code",
   "execution_count": 11,
   "metadata": {},
   "outputs": [
    {
     "name": "stdout",
     "output_type": "stream",
     "text": [
      "26973\n"
     ]
    }
   ],
   "source": [
    "print(len(webs1))"
   ]
  },
  {
   "cell_type": "code",
   "execution_count": null,
   "metadata": {},
   "outputs": [],
   "source": [
    "start = time.time()\n",
    "p = Pool(multiprocessing.cpu_count())\n",
    "p.map(ATN.run_dynamics, webs1)\n",
    "p.close()\n",
    "p.join() #wait  \n",
    "total_time = time.time() - start\n",
    "print(\"total time - \" + str(total_time))"
   ]
  },
  {
   "cell_type": "code",
   "execution_count": 12,
   "metadata": {},
   "outputs": [],
   "source": [
    "# Double check I got through all of the both introduced species simulations! (will print any missing ones)\n",
    "webs1 = []\n",
    "fif_webs_file = open(f\"./{out_location}/over15_webs.txt\",'r')\n",
    "for row in fif_webs_file:\n",
    "    inboth_file = open(f\"./{out_location}/introduced_both.csv\",'r')\n",
    "    in_reader = csv.reader(inboth_file)\n",
    "    next(in_reader)\n",
    "    for line in in_reader:\n",
    "        in1_id = int(line[0])\n",
    "        in2_id = int(line[1])\n",
    "        if not exists(f\"./{out_location}/web_{int(row)}_inv/both/web_{int(row)}_inv_{in1_id}_{in2_id}_2000_edges.txt\"):\n",
    "            print(f\"no: ./{out_location}/web_{int(row)}_inv/both/web_{int(row)}_inv_{in1_id}_{in2_id}_2000_edges.txt\")\n",
    "        if not exists(f\"./{out_location}/web_{int(row)}_inv/both/web_{int(row)}_inv_{in1_id}_{in2_id}_2000_nodes.txt\"):\n",
    "            print(\"no: ./{out_location}/web_{int(row)}_inv/both/web_{int(row)}_inv_{in1_id}_{in2_id}_2000_nodes.txt\")\n",
    "        if not exists(f\"./{out_location}/web_{int(row)}_inv/both/web_{int(row)}_inv_{in1_id}_{in2_id}_2000_details.csv\"):\n",
    "            print(\"no: ./{out_location}/web_{int(row)}_inv/both/web_{int(row)}_inv_{in1_id}_{in2_id}_2000_details.csv\")\n",
    "    inboth_file.close()\n",
    "fif_webs_file.close()"
   ]
  }
 ],
 "metadata": {
  "kernelspec": {
   "display_name": "Python 3",
   "language": "python",
   "name": "python3"
  },
  "language_info": {
   "codemirror_mode": {
    "name": "ipython",
    "version": 3
   },
   "file_extension": ".py",
   "mimetype": "text/x-python",
   "name": "python",
   "nbconvert_exporter": "python",
   "pygments_lexer": "ipython3",
   "version": "3.6.3"
  }
 },
 "nbformat": 4,
 "nbformat_minor": 2
}
