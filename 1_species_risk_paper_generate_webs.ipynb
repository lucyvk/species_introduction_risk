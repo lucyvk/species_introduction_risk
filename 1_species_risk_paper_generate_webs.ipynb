{
 "cells": [
  {
   "cell_type": "code",
   "execution_count": null,
   "metadata": {},
   "outputs": [],
   "source": [
    "import numpy as np\n",
    "import niche\n",
    "import ATN\n",
    "import multiprocessing\n",
    "from multiprocessing import Pool\n",
    "from multiprocessing import Array\n",
    "from multiprocessing import Value\n",
    "\n",
    "# CONSTANTS\n",
    "out_location = \"paper_webs\"\n",
    "dummy_location = \"NONE\" # Don't re-run random web generation"
   ]
  },
  {
   "cell_type": "code",
   "execution_count": 4,
   "metadata": {},
   "outputs": [
    {
     "name": "stdout",
     "output_type": "stream",
     "text": [
      "number of recipient webs that pass the check: 69\n"
     ]
    }
   ],
   "source": [
    "### Generate initial webs (random). ###\n",
    "### To use the same webs as in the paper don't re-run and use those in paper_webs ###\n",
    "\n",
    "S = 30 \n",
    "C = 0.15\n",
    "\n",
    "# Generate 100 potential webs using the niche model, saving a set of plausible ones\n",
    "webs0 = []\n",
    "for i in range(0,100):\n",
    "    nis, ris, cis, web = niche.niche_model(S,C)\n",
    "    b_init = {}\n",
    "    for node in web.nodes():\n",
    "        # set initial biomasses for each species as a random value in [0.5,1]\n",
    "        b_init[node] = np.random.uniform(0.5,1,1)[0]\n",
    "    niche.write_web_to_file(web,nis,ris,cis,b_init,f\"./{dummy_location}/web_{i}\") # name changed so not overwritten\n",
    "    if niche.check_web(web):\n",
    "        webs0.append(i)\n",
    "        \n",
    "print(f\"number of recipient webs that pass the check: {len(webs0)}\")\n",
    "valid_webs_file = open(f\"./{dummy_location}/valid_webs.txt\",'w') # name changed so not overwritten\n",
    "for i in webs0:\n",
    "    valid_webs_file.write(str(i) + \"\\n\")\n",
    "valid_webs_file.close()\n",
    "        "
   ]
  },
  {
   "cell_type": "code",
   "execution_count": null,
   "metadata": {},
   "outputs": [],
   "source": [
    "### Run webs for 2000 timesteps to get them to a stable state ###\n",
    "\n",
    "webs0 = []\n",
    "valid_webs_file = open(f\"./{out_location}/valid_webs.txt\",'r')\n",
    "ct = 0 \n",
    "for row in valid_webs_file:\n",
    "    if ct == 0:\n",
    "        # Only plot time series for the first example \n",
    "        webs0.append([f\"./{out_location}/web_{int(row)}\",2000,True])\n",
    "    else:\n",
    "        webs0.append([f\"./{out_location}/web_{int(row)}\",2000,False])\n",
    "    ct += 1\n",
    "valid_webs_file.close()\n",
    "    \n",
    "# Parallelize + run (because each simulation takes a while!)\n",
    "p = Pool(multiprocessing.cpu_count())\n",
    "p.map(ATN.run_dynamics, webs0)\n",
    "p.close()\n",
    "p.join() #wait  "
   ]
  },
  {
   "cell_type": "code",
   "execution_count": 3,
   "metadata": {},
   "outputs": [
    {
     "name": "stdout",
     "output_type": "stream",
     "text": [
      "count - 37\n"
     ]
    }
   ],
   "source": [
    "### Count the number of final webs with over 15 species after being run to equilibrium and output a list of those ###\n",
    "ct = 0\n",
    "valid_webs_file = open(f\"./{out_location}/valid_webs.txt\",'r')\n",
    "fifteen_webs_file = open(f\"./{out_location}/over15_webs.txt\",'w')\n",
    "for row in valid_webs_file:\n",
    "    # Read in the network structure after the \n",
    "    web,_,_,_,_ = niche.read_web_from_file(f\"./{out_location}/web_{int(row)}_2000\")\n",
    "    final_S = len(web.nodes())\n",
    "    if final_S >= 15:\n",
    "        fifteen_webs_file.write(str(row))\n",
    "        ct+=1\n",
    "valid_webs_file.close()\n",
    "fifteen_webs_file.close()\n",
    "print(\"count - \" + str(ct))"
   ]
  }
 ],
 "metadata": {
  "kernelspec": {
   "display_name": "Python 3",
   "language": "python",
   "name": "python3"
  },
  "language_info": {
   "codemirror_mode": {
    "name": "ipython",
    "version": 3
   },
   "file_extension": ".py",
   "mimetype": "text/x-python",
   "name": "python",
   "nbconvert_exporter": "python",
   "pygments_lexer": "ipython3",
   "version": "3.6.3"
  }
 },
 "nbformat": 4,
 "nbformat_minor": 2
}
